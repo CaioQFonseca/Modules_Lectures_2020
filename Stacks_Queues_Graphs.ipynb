{
 "cells": [
  {
   "cell_type": "markdown",
   "metadata": {},
   "source": [
    "# Stacks, Queues and Graphs"
   ]
  },
  {
   "cell_type": "markdown",
   "metadata": {},
   "source": [
    "References:\n",
    "\n",
    "* Data Structures and Algorithms with Python - Kent Lee & Steve Hubbard\n",
    "\n",
    "\n"
   ]
  },
  {
   "cell_type": "markdown",
   "metadata": {},
   "source": [
    "## Stacks"
   ]
  },
  {
   "cell_type": "code",
   "execution_count": 2,
   "metadata": {},
   "outputs": [],
   "source": [
    "class Stack:\n",
    "    def __init__(self):\n",
    "        self.items = []\n",
    "        \n",
    "    def pop(self):  # returns the last item pushed and removes it from the stack\n",
    "        if self.isEmpty():\n",
    "            raise RuntimeError(\"Attempt to pop an empty stack\")\n",
    "            \n",
    "        topIdx = len(self.items)-1\n",
    "        item = self.items[topIdx]\n",
    "        del self.items[topIdx]\n",
    "        return item\n",
    "    \n",
    "    def push(self, item):   # Pushes the item, on the stack\n",
    "        self.items.append(item)\n",
    "        \n",
    "    def top(self):  # returns the top item without popping the stack\n",
    "        if self.isEmpty():\n",
    "            raise RuntimeError(\"Attempt to get top of empty stack\")\n",
    "        topIdx = len(self.items)-1\n",
    "        return self.items[topIdx]\n",
    "    \n",
    "    def isEmpty(self): # returns True if the stack has no pushed items\n",
    "        return len(self.items)==0\n",
    "\n"
   ]
  },
  {
   "cell_type": "code",
   "execution_count": 3,
   "metadata": {},
   "outputs": [],
   "source": [
    "test_stack = Stack()"
   ]
  },
  {
   "cell_type": "code",
   "execution_count": 4,
   "metadata": {
    "scrolled": true
   },
   "outputs": [
    {
     "data": {
      "text/plain": [
       "['cat', 'dog', 'tiger', 'lion', 'rabbit', 'chimpanzee']"
      ]
     },
     "execution_count": 4,
     "metadata": {},
     "output_type": "execute_result"
    }
   ],
   "source": [
    "stack_list = ['cat', 'dog', 'tiger', 'lion', 'rabbit', 'chimpanzee']\n",
    "stack_list"
   ]
  },
  {
   "cell_type": "code",
   "execution_count": 5,
   "metadata": {},
   "outputs": [],
   "source": [
    "test_stack.push(stack_list)"
   ]
  },
  {
   "cell_type": "code",
   "execution_count": 6,
   "metadata": {},
   "outputs": [
    {
     "data": {
      "text/plain": [
       "['cat', 'dog', 'tiger', 'lion', 'rabbit', 'chimpanzee']"
      ]
     },
     "execution_count": 6,
     "metadata": {},
     "output_type": "execute_result"
    }
   ],
   "source": [
    "test_stack.top()"
   ]
  },
  {
   "cell_type": "code",
   "execution_count": 7,
   "metadata": {},
   "outputs": [],
   "source": [
    "item = 'horse'"
   ]
  },
  {
   "cell_type": "code",
   "execution_count": 8,
   "metadata": {},
   "outputs": [],
   "source": [
    "test_stack.push(item)"
   ]
  },
  {
   "cell_type": "code",
   "execution_count": 9,
   "metadata": {},
   "outputs": [
    {
     "data": {
      "text/plain": [
       "'horse'"
      ]
     },
     "execution_count": 9,
     "metadata": {},
     "output_type": "execute_result"
    }
   ],
   "source": [
    "test_stack.top()"
   ]
  },
  {
   "cell_type": "code",
   "execution_count": 10,
   "metadata": {},
   "outputs": [],
   "source": [
    "item2 = 'gorillas'"
   ]
  },
  {
   "cell_type": "code",
   "execution_count": 11,
   "metadata": {},
   "outputs": [],
   "source": [
    "item3 = 'leopards'"
   ]
  },
  {
   "cell_type": "code",
   "execution_count": 12,
   "metadata": {},
   "outputs": [],
   "source": [
    "test_stack.push(item2)"
   ]
  },
  {
   "cell_type": "code",
   "execution_count": 13,
   "metadata": {},
   "outputs": [
    {
     "data": {
      "text/plain": [
       "'gorillas'"
      ]
     },
     "execution_count": 13,
     "metadata": {},
     "output_type": "execute_result"
    }
   ],
   "source": [
    "test_stack.top()"
   ]
  },
  {
   "cell_type": "code",
   "execution_count": 14,
   "metadata": {},
   "outputs": [
    {
     "data": {
      "text/plain": [
       "'gorillas'"
      ]
     },
     "execution_count": 14,
     "metadata": {},
     "output_type": "execute_result"
    }
   ],
   "source": [
    "test_stack.pop()"
   ]
  },
  {
   "cell_type": "code",
   "execution_count": 15,
   "metadata": {},
   "outputs": [
    {
     "data": {
      "text/plain": [
       "'horse'"
      ]
     },
     "execution_count": 15,
     "metadata": {},
     "output_type": "execute_result"
    }
   ],
   "source": [
    "test_stack.top()"
   ]
  },
  {
   "cell_type": "code",
   "execution_count": 16,
   "metadata": {},
   "outputs": [],
   "source": [
    "test_stack.push(item3)"
   ]
  },
  {
   "cell_type": "code",
   "execution_count": 17,
   "metadata": {},
   "outputs": [
    {
     "data": {
      "text/plain": [
       "'leopards'"
      ]
     },
     "execution_count": 17,
     "metadata": {},
     "output_type": "execute_result"
    }
   ],
   "source": [
    "test_stack.top()"
   ]
  },
  {
   "cell_type": "code",
   "execution_count": 18,
   "metadata": {},
   "outputs": [],
   "source": [
    "test_stack.push(item2)"
   ]
  },
  {
   "cell_type": "code",
   "execution_count": 19,
   "metadata": {},
   "outputs": [
    {
     "data": {
      "text/plain": [
       "'gorillas'"
      ]
     },
     "execution_count": 19,
     "metadata": {},
     "output_type": "execute_result"
    }
   ],
   "source": [
    "test_stack.top()"
   ]
  },
  {
   "cell_type": "code",
   "execution_count": 20,
   "metadata": {},
   "outputs": [],
   "source": [
    "empty_stack = Stack()"
   ]
  },
  {
   "cell_type": "code",
   "execution_count": 21,
   "metadata": {},
   "outputs": [
    {
     "data": {
      "text/plain": [
       "True"
      ]
     },
     "execution_count": 21,
     "metadata": {},
     "output_type": "execute_result"
    }
   ],
   "source": [
    "empty_stack.isEmpty()"
   ]
  },
  {
   "cell_type": "code",
   "execution_count": null,
   "metadata": {},
   "outputs": [],
   "source": [
    "empty_stack.top()"
   ]
  },
  {
   "cell_type": "markdown",
   "metadata": {},
   "source": []
  },
  {
   "cell_type": "markdown",
   "metadata": {},
   "source": [
    "## Queues"
   ]
  },
  {
   "cell_type": "code",
   "execution_count": 23,
   "metadata": {},
   "outputs": [],
   "source": [
    "class Queue:\n",
    "    def __init__(self):\n",
    "        self.items = []\n",
    "        self.frontIdx = 0\n",
    "        \n",
    "    def __compress(self):\n",
    "        newlst = []\n",
    "        for i in range(self.frontIdx, len(self.items)):\n",
    "            newlst.append(self.items[i])\n",
    "            \n",
    "        self.items = newlst\n",
    "        self.frontIdx = 0\n",
    "        \n",
    "    def dequeue(self): # Returns the first item enqueued and removes it from the queue\n",
    "        if self.isEmpty():\n",
    "            raise RuntimeError(\"Attempt to dequeue an empty queue\")\n",
    "            \n",
    "        if self.frontIdx*2 > len(self.items):\n",
    "            self.__compress()\n",
    "            \n",
    "        item = self.items[self.frontIdx]\n",
    "        self.frontIdx +=1\n",
    "        return item\n",
    "    \n",
    "    def enqueue(self,item):  # enqueues the item, on the queue\n",
    "        self.items.append(item)\n",
    "        \n",
    "    def front(self):  # returns the front item without dequeueing the item\n",
    "        if self.isEmpty():\n",
    "            raise RuntimeError(\"Attempt to access front of empty queue\")\n",
    "            \n",
    "        return self.items[self.frontIdx]\n",
    "    \n",
    "    def isEmpty(self): # returns True if the queue has not enqueued items\n",
    "        return self.frontIdx == len(self.items)\n",
    "    \n"
   ]
  },
  {
   "cell_type": "code",
   "execution_count": 24,
   "metadata": {},
   "outputs": [],
   "source": [
    "test_queue = Queue()"
   ]
  },
  {
   "cell_type": "code",
   "execution_count": 25,
   "metadata": {},
   "outputs": [],
   "source": [
    "item1 = 'cat'\n",
    "test_queue.enqueue(item1)"
   ]
  },
  {
   "cell_type": "code",
   "execution_count": 26,
   "metadata": {},
   "outputs": [],
   "source": [
    "item2 = 'dog'\n",
    "test_queue.enqueue(item2)"
   ]
  },
  {
   "cell_type": "code",
   "execution_count": 27,
   "metadata": {},
   "outputs": [],
   "source": [
    "item3 = 'wolf'\n",
    "test_queue.enqueue(item3)"
   ]
  },
  {
   "cell_type": "code",
   "execution_count": 28,
   "metadata": {},
   "outputs": [
    {
     "data": {
      "text/plain": [
       "'cat'"
      ]
     },
     "execution_count": 28,
     "metadata": {},
     "output_type": "execute_result"
    }
   ],
   "source": [
    "test_queue.front()"
   ]
  },
  {
   "cell_type": "code",
   "execution_count": 29,
   "metadata": {},
   "outputs": [
    {
     "data": {
      "text/plain": [
       "'cat'"
      ]
     },
     "execution_count": 29,
     "metadata": {},
     "output_type": "execute_result"
    }
   ],
   "source": [
    "test_queue.dequeue()"
   ]
  },
  {
   "cell_type": "code",
   "execution_count": 30,
   "metadata": {},
   "outputs": [
    {
     "data": {
      "text/plain": [
       "'dog'"
      ]
     },
     "execution_count": 30,
     "metadata": {},
     "output_type": "execute_result"
    }
   ],
   "source": [
    "test_queue.front()"
   ]
  },
  {
   "cell_type": "code",
   "execution_count": 31,
   "metadata": {},
   "outputs": [
    {
     "data": {
      "text/plain": [
       "'dog'"
      ]
     },
     "execution_count": 31,
     "metadata": {},
     "output_type": "execute_result"
    }
   ],
   "source": [
    "test_queue.dequeue()"
   ]
  },
  {
   "cell_type": "code",
   "execution_count": 32,
   "metadata": {},
   "outputs": [
    {
     "data": {
      "text/plain": [
       "'wolf'"
      ]
     },
     "execution_count": 32,
     "metadata": {},
     "output_type": "execute_result"
    }
   ],
   "source": [
    "test_queue.front()"
   ]
  },
  {
   "cell_type": "code",
   "execution_count": null,
   "metadata": {},
   "outputs": [],
   "source": []
  },
  {
   "cell_type": "code",
   "execution_count": null,
   "metadata": {},
   "outputs": [],
   "source": []
  },
  {
   "cell_type": "code",
   "execution_count": null,
   "metadata": {},
   "outputs": [],
   "source": []
  },
  {
   "cell_type": "markdown",
   "metadata": {},
   "source": [
    "## Graph"
   ]
  },
  {
   "cell_type": "code",
   "execution_count": 33,
   "metadata": {},
   "outputs": [],
   "source": [
    "# ref: https://github.com/codebasics/data-structures-algorithms-python/blob/master/data_structures/10_Graph/graph.py\n",
    "\n",
    "class Graph:\n",
    "    def __init__(self, edges):\n",
    "        self.edges = edges\n",
    "        self.graph_dict = {}\n",
    "        for start, end in edges:\n",
    "            if start in self.graph_dict:\n",
    "                self.graph_dict[start].append(end)\n",
    "            else:\n",
    "                self.graph_dict[start] = [end]\n",
    "        print(\"Graph Dict:\", self.graph_dict)\n",
    "\n",
    "    def get_paths(self, start, end, path=[]):\n",
    "        path = path + [start]\n",
    "\n",
    "        if start == end:\n",
    "            return [path]\n",
    "\n",
    "        if start not in self.graph_dict:\n",
    "            return []\n",
    "\n",
    "        paths = []\n",
    "        for node in self.graph_dict[start]:\n",
    "            if node not in path:\n",
    "                new_paths = self.get_paths(node, end, path)\n",
    "                for p in new_paths:\n",
    "                    paths.append(p)\n",
    "\n",
    "        return paths\n",
    "\n",
    "    def get_shortest_path(self, start, end, path=[]):\n",
    "        path = path + [start]\n",
    "\n",
    "        if start == end:\n",
    "            return path\n",
    "\n",
    "        if start not in self.graph_dict:\n",
    "            return None\n",
    "\n",
    "        shortest_path = None\n",
    "        for node in self.graph_dict[start]:\n",
    "            if node not in path:\n",
    "                sp = self.get_shortest_path(node, end, path)\n",
    "                if sp:\n",
    "                    if shortest_path is None or len(sp) < len(shortest_path):\n",
    "                        shortest_path = sp\n",
    "\n",
    "        return shortest_path\n",
    "\n"
   ]
  },
  {
   "cell_type": "code",
   "execution_count": 35,
   "metadata": {},
   "outputs": [
    {
     "name": "stdout",
     "output_type": "stream",
     "text": [
      "Graph Dict: {'City0': ['City3'], 'City1': ['City0', 'City10'], 'City2': ['City8', 'City6', 'City3'], 'City3': ['City9'], 'City4': ['City1'], 'City5': ['City7', 'City4'], 'City9': ['City10'], 'City10': ['City11', 'City0'], 'City11': ['City12'], 'City12': ['City5']}\n",
      "All paths between: City5 and City9:  [['City5', 'City4', 'City1', 'City0', 'City3', 'City9'], ['City5', 'City4', 'City1', 'City10', 'City0', 'City3', 'City9']]\n",
      "Shortest path between City5 and City9:  ['City5', 'City4', 'City1', 'City0', 'City3', 'City9']\n"
     ]
    }
   ],
   "source": [
    "    routes = [\n",
    "        (\"City0\", \"City3\"),\n",
    "        (\"City1\", \"City0\"),\n",
    "        (\"City1\", \"City10\"),\n",
    "        (\"City2\", \"City8\"),\n",
    "        (\"City2\", \"City6\"),\n",
    "        (\"City2\", \"City3\"),\n",
    "        (\"City3\", \"City9\"),\n",
    "        (\"City4\", \"City1\"),\n",
    "        (\"City5\", \"City7\"),\n",
    "        (\"City5\", \"City4\"),\n",
    "        (\"City9\", \"City10\"),\n",
    "        (\"City10\", \"City11\"),\n",
    "        (\"City10\", \"City0\"),\n",
    "        (\"City11\", \"City12\"),\n",
    "        (\"City12\", \"City5\"),\n",
    "    ]\n",
    "    \n",
    "    \n",
    "\n",
    "    route_graph = Graph(routes)\n",
    "\n",
    "    start = \"City5\"\n",
    "    end = \"City9\"\n",
    "\n",
    "    print(f\"All paths between: {start} and {end}: \",route_graph.get_paths(start,end))\n",
    "    print(f\"Shortest path between {start} and {end}: \", route_graph.get_shortest_path(start,end))\n"
   ]
  },
  {
   "cell_type": "code",
   "execution_count": null,
   "metadata": {},
   "outputs": [],
   "source": []
  },
  {
   "cell_type": "code",
   "execution_count": null,
   "metadata": {},
   "outputs": [],
   "source": []
  },
  {
   "cell_type": "code",
   "execution_count": null,
   "metadata": {},
   "outputs": [],
   "source": []
  },
  {
   "cell_type": "markdown",
   "metadata": {},
   "source": [
    "### Dijkstra's Algorithm"
   ]
  },
  {
   "cell_type": "markdown",
   "metadata": {},
   "source": [
    "A great algorithm for finding the minimum cost path between any two vertices in a weighted graph. "
   ]
  },
  {
   "cell_type": "code",
   "execution_count": null,
   "metadata": {},
   "outputs": [],
   "source": [
    "import math\n",
    "# ref: https://www.pythonpool.com/dijkstras-algorithm-python/ \n",
    "\n",
    "def Dijkstra(graph,source,target):\n",
    "    \n",
    "    # These are all the nodes which have not been visited yet\n",
    "    unvisited_nodes=graph\n",
    "    # It will store the shortest distance from one node to another\n",
    "    shortest_distance={}\n",
    "    # This will store the Shortest path between source and target node \n",
    "    route=[] \n",
    "    # It will store the predecessors of the nodes\n",
    "    predecessor={}\n",
    "    \n",
    "    # Iterating through all the unvisited nodes\n",
    "    for nodes in unvisited_nodes:\n",
    "        \n",
    "    # Setting the shortest_distance of all the nodes as infinty\n",
    "        shortest_distance[nodes]=math.inf\n",
    "        \n",
    "    # The distance of a point to itself is 0.\n",
    "    shortest_distance[source]=0\n",
    "    \n",
    "    # Running the loop while all the nodes have been visited\n",
    "    while(unvisited_nodes):\n",
    "        \n",
    "        # setting the value of min_node as None\n",
    "        min_Node=None\n",
    "        \n",
    "        # iterating through all the unvisited node\n",
    "        for current_node in unvisited_nodes: \n",
    "            \n",
    "        # For the very first time that loop runs this will be called\n",
    "            if min_Node is None:\n",
    "            \n",
    "            # Setting the value of min_Node as the current node\n",
    "                min_Node=current_node\n",
    "                \n",
    "            elif shortest_distance[min_Node] > shortest_distance[current_node]:\n",
    "                \n",
    "            # I the value of min_Node is less than that of current_node, set \n",
    "            #min_Node as current_node\n",
    "\n",
    "                min_Node=current_node\n",
    "                \n",
    "        # Iterating through the connected nodes of current_node \n",
    "        \n",
    "        for child_node,value in unvisited_nodes[min_Node].items():\n",
    "\n",
    "            # checking if the value of the current_node + value of the edge \n",
    "            # that connects this neighbor node with current_node\n",
    "            # is lesser than the value that distance between current nodes \n",
    "            # and its connections\n",
    "            if value + shortest_distance[min_Node] < shortest_distance[child_node]:  \n",
    "                \n",
    "     # If true  set the new value as the minimum distance of that connection\n",
    "                shortest_distance[child_node] = value + shortest_distance[min_Node]\n",
    "                \n",
    "           # Adding the current node as the predecessor of the child node\n",
    "                predecessor[child_node] = min_Node\n",
    "        \n",
    "        # After the node has been visited (also known as relaxed) remove it from unvisited node\n",
    "        unvisited_nodes.pop(min_Node)\n",
    "        \n",
    "    # Till now the shortest distance between the source node and target node \n",
    "    # has been found. Set the current node as the target node \n",
    "    node = target\n",
    "    \n",
    "    # Starting from the goal node, we will go back to the source node and \n",
    "# see what path we followed to get the smallest distance\n",
    "    while node != source:\n",
    "        \n",
    "        # As it is not necessary that the target node can be reached from # the source node, we must enclose it in a try block\n",
    "        try:\n",
    "            route.insert(0,node)\n",
    "            node = predecessor[node]\n",
    "        except Exception:\n",
    "            print('Path not reachable')\n",
    "            break\n",
    "    # Including the ssource in the path\n",
    "    route.insert(0,source)\n",
    "    \n",
    "    # If the node has been visited,\n",
    "    if shortest_distance[target] != math.inf:\n",
    "        # print the shortest distance and the path taken\n",
    "        print('Shortest distance is ' + str(shortest_distance[target]))\n",
    "        print('And the path is ' + str(route))\n",
    "    # Remove the below comment if you want to show the the shortest distance \n",
    "    #from source to every other node\n",
    "    # print(shortest_distance)\n",
    "\n"
   ]
  },
  {
   "cell_type": "code",
   "execution_count": null,
   "metadata": {},
   "outputs": [],
   "source": [
    "graph = {'0':{'1':2,'3':4,'10':4},'1':{'0':2,'4':1, '10':4},'2':{'8':3,'6':5,'3':4},'3':{'9':4,'2':4},'4':{'5':3,'1':1}, '5': {'4':3, '7':3, '12':2}, \n",
    "        '6': {'2':5}, '7': {'5':3}, '8':{'2':3}, '9': {'3':4, '10':3}, '10': {'1':4,'9':3, '11':2}, '11': {'10':2, '12':2}, '12': {'11':2, '5':2}}\n",
    "#Calling the function with source as 'a' and target as 'e'.\n",
    "Dijkstra(graph,'5','9')"
   ]
  },
  {
   "cell_type": "code",
   "execution_count": null,
   "metadata": {},
   "outputs": [],
   "source": []
  },
  {
   "cell_type": "code",
   "execution_count": null,
   "metadata": {},
   "outputs": [],
   "source": []
  },
  {
   "cell_type": "code",
   "execution_count": null,
   "metadata": {},
   "outputs": [],
   "source": []
  }
 ],
 "metadata": {
  "kernelspec": {
   "display_name": "Python 3",
   "language": "python",
   "name": "python3"
  },
  "language_info": {
   "codemirror_mode": {
    "name": "ipython",
    "version": 3
   },
   "file_extension": ".py",
   "mimetype": "text/x-python",
   "name": "python",
   "nbconvert_exporter": "python",
   "pygments_lexer": "ipython3",
   "version": "3.8.3"
  }
 },
 "nbformat": 4,
 "nbformat_minor": 4
}
