{
 "cells": [
  {
   "cell_type": "markdown",
   "metadata": {},
   "source": [
    "# Data Structures"
   ]
  },
  {
   "cell_type": "markdown",
   "metadata": {},
   "source": [
    "References:\n",
    "* https://www.w3schools.com/python\n",
    "* Data Structures and Algorithms with Python - Kent Lee and Steve Hubbard"
   ]
  },
  {
   "cell_type": "markdown",
   "metadata": {},
   "source": [
    "## Lists"
   ]
  },
  {
   "cell_type": "code",
   "execution_count": 1,
   "metadata": {},
   "outputs": [],
   "source": [
    "# Creating a Python List\n",
    "\n",
    "tech_list = [\"computer\", \"mobile\", \"games\", \"movies\", \"videogames\"]"
   ]
  },
  {
   "cell_type": "code",
   "execution_count": 2,
   "metadata": {
    "scrolled": true
   },
   "outputs": [
    {
     "data": {
      "text/plain": [
       "['computer', 'mobile', 'games', 'movies', 'videogames']"
      ]
     },
     "execution_count": 2,
     "metadata": {},
     "output_type": "execute_result"
    }
   ],
   "source": [
    "tech_list"
   ]
  },
  {
   "cell_type": "code",
   "execution_count": 4,
   "metadata": {},
   "outputs": [
    {
     "data": {
      "text/plain": [
       "[1, 2, 3, 4, 5]"
      ]
     },
     "execution_count": 4,
     "metadata": {},
     "output_type": "execute_result"
    }
   ],
   "source": [
    "number_list = [1, 2, 3, 4, 5]\n",
    "number_list"
   ]
  },
  {
   "cell_type": "markdown",
   "metadata": {},
   "source": [
    "### Printing the List"
   ]
  },
  {
   "cell_type": "code",
   "execution_count": 6,
   "metadata": {},
   "outputs": [
    {
     "name": "stdout",
     "output_type": "stream",
     "text": [
      "computer\n",
      "5\n"
     ]
    }
   ],
   "source": [
    "# Printing an element of the list\n",
    "\n",
    "print(tech_list[0])\n",
    "print(number_list[-1])"
   ]
  },
  {
   "cell_type": "code",
   "execution_count": 7,
   "metadata": {},
   "outputs": [
    {
     "name": "stdout",
     "output_type": "stream",
     "text": [
      "['mobile', 'games']\n",
      "['computer', 'mobile', 'games', 'movies']\n",
      "movies\n",
      "['mobile', 'games', 'movies', 'videogames']\n"
     ]
    }
   ],
   "source": [
    "# Printing multiple elements\n",
    "# it will start printing the element you selected up to the last element you selected minus 1\n",
    "\n",
    "print(tech_list[1:3])\n",
    "print(tech_list[:4])\n",
    "print(tech_list[-2])\n",
    "print(tech_list[1:])"
   ]
  },
  {
   "cell_type": "markdown",
   "metadata": {},
   "source": [
    "### Check an item in the List"
   ]
  },
  {
   "cell_type": "markdown",
   "metadata": {},
   "source": [
    "You can also check if an item exists inside the list:"
   ]
  },
  {
   "cell_type": "code",
   "execution_count": 8,
   "metadata": {},
   "outputs": [
    {
     "name": "stdout",
     "output_type": "stream",
     "text": [
      "The videogames are included\n"
     ]
    }
   ],
   "source": [
    "if \"videogames\" in tech_list:\n",
    "    print(\"The videogames are included\")"
   ]
  },
  {
   "cell_type": "markdown",
   "metadata": {},
   "source": [
    " "
   ]
  },
  {
   "cell_type": "markdown",
   "metadata": {},
   "source": [
    "### Changing the values in the List"
   ]
  },
  {
   "cell_type": "code",
   "execution_count": 9,
   "metadata": {},
   "outputs": [
    {
     "data": {
      "text/plain": [
       "['computer', 'drones', 'games', 'movies', 'videogames']"
      ]
     },
     "execution_count": 9,
     "metadata": {},
     "output_type": "execute_result"
    }
   ],
   "source": [
    "tech_list[1] = \"drones\"\n",
    "tech_list"
   ]
  },
  {
   "cell_type": "code",
   "execution_count": 10,
   "metadata": {},
   "outputs": [
    {
     "data": {
      "text/plain": [
       "['drones', 'computer', 'games', 'movies', 'videogames']"
      ]
     },
     "execution_count": 10,
     "metadata": {},
     "output_type": "execute_result"
    }
   ],
   "source": [
    "# Changing multiple elements inside the list:\n",
    "\n",
    "tech_list[0:2] = [\"drones\", \"computer\"]\n",
    "tech_list"
   ]
  },
  {
   "cell_type": "code",
   "execution_count": null,
   "metadata": {},
   "outputs": [],
   "source": []
  },
  {
   "cell_type": "markdown",
   "metadata": {},
   "source": [
    "### Inserting Items"
   ]
  },
  {
   "cell_type": "markdown",
   "metadata": {},
   "source": [
    "In order to insert items, let's use the insert() method:"
   ]
  },
  {
   "cell_type": "code",
   "execution_count": 12,
   "metadata": {},
   "outputs": [
    {
     "data": {
      "text/plain": [
       "['drones',\n",
       " 'computer',\n",
       " 'games',\n",
       " 'cameras',\n",
       " 'cameras',\n",
       " 'movies',\n",
       " 'tablets',\n",
       " 'videogames']"
      ]
     },
     "execution_count": 12,
     "metadata": {},
     "output_type": "execute_result"
    }
   ],
   "source": [
    "# using the insert() you can specify the item and the index you want the element to be in\n",
    "\n",
    "tech_list.insert(3, \"cameras\")\n",
    "tech_list.insert(6, \"tablets\")\n",
    "tech_list"
   ]
  },
  {
   "cell_type": "markdown",
   "metadata": {},
   "source": [
    "### Append Items"
   ]
  },
  {
   "cell_type": "markdown",
   "metadata": {},
   "source": [
    "Let's check if an item is on the list and if it is not, let's append the new item with append():"
   ]
  },
  {
   "cell_type": "code",
   "execution_count": 13,
   "metadata": {},
   "outputs": [],
   "source": [
    "if \"consoles\" in tech_list:\n",
    "    print(\"Consoles is on the list\")\n",
    "else: tech_list.append(\"consoles\")\n",
    "\n"
   ]
  },
  {
   "cell_type": "code",
   "execution_count": 14,
   "metadata": {},
   "outputs": [
    {
     "data": {
      "text/plain": [
       "['drones',\n",
       " 'computer',\n",
       " 'games',\n",
       " 'cameras',\n",
       " 'cameras',\n",
       " 'movies',\n",
       " 'tablets',\n",
       " 'videogames',\n",
       " 'consoles']"
      ]
     },
     "execution_count": 14,
     "metadata": {},
     "output_type": "execute_result"
    }
   ],
   "source": [
    "tech_list"
   ]
  },
  {
   "cell_type": "markdown",
   "metadata": {},
   "source": [
    "### Extending the list"
   ]
  },
  {
   "cell_type": "markdown",
   "metadata": {},
   "source": [
    "We can use the extend() method to add elements from another list into the first list:"
   ]
  },
  {
   "cell_type": "code",
   "execution_count": 15,
   "metadata": {},
   "outputs": [],
   "source": [
    "consoles = [\"PS5\", \"Xbox Series X\", \"Switch\"]\n",
    "\n",
    "tech_list.extend(consoles)"
   ]
  },
  {
   "cell_type": "code",
   "execution_count": 16,
   "metadata": {},
   "outputs": [
    {
     "data": {
      "text/plain": [
       "['drones',\n",
       " 'computer',\n",
       " 'games',\n",
       " 'cameras',\n",
       " 'cameras',\n",
       " 'movies',\n",
       " 'tablets',\n",
       " 'videogames',\n",
       " 'consoles',\n",
       " 'PS5',\n",
       " 'Xbox Series X',\n",
       " 'Switch']"
      ]
     },
     "execution_count": 16,
     "metadata": {},
     "output_type": "execute_result"
    }
   ],
   "source": [
    "tech_list"
   ]
  },
  {
   "cell_type": "markdown",
   "metadata": {},
   "source": [
    "### Removing Items from the List"
   ]
  },
  {
   "cell_type": "markdown",
   "metadata": {},
   "source": [
    "We can use the remove() method in order to remove items from the list:"
   ]
  },
  {
   "cell_type": "code",
   "execution_count": 17,
   "metadata": {},
   "outputs": [],
   "source": [
    "tech_list.remove('consoles')"
   ]
  },
  {
   "cell_type": "code",
   "execution_count": 18,
   "metadata": {},
   "outputs": [
    {
     "data": {
      "text/plain": [
       "['drones',\n",
       " 'computer',\n",
       " 'games',\n",
       " 'cameras',\n",
       " 'cameras',\n",
       " 'movies',\n",
       " 'tablets',\n",
       " 'videogames',\n",
       " 'PS5',\n",
       " 'Xbox Series X',\n",
       " 'Switch']"
      ]
     },
     "execution_count": 18,
     "metadata": {},
     "output_type": "execute_result"
    }
   ],
   "source": [
    "tech_list"
   ]
  },
  {
   "cell_type": "markdown",
   "metadata": {},
   "source": [
    "You can also use pop() or del to remove a specific index from the List:"
   ]
  },
  {
   "cell_type": "code",
   "execution_count": 19,
   "metadata": {},
   "outputs": [
    {
     "data": {
      "text/plain": [
       "'cameras'"
      ]
     },
     "execution_count": 19,
     "metadata": {},
     "output_type": "execute_result"
    }
   ],
   "source": [
    "tech_list.pop(3)"
   ]
  },
  {
   "cell_type": "code",
   "execution_count": 20,
   "metadata": {},
   "outputs": [
    {
     "data": {
      "text/plain": [
       "['drones',\n",
       " 'computer',\n",
       " 'games',\n",
       " 'cameras',\n",
       " 'movies',\n",
       " 'tablets',\n",
       " 'videogames',\n",
       " 'PS5',\n",
       " 'Xbox Series X',\n",
       " 'Switch']"
      ]
     },
     "execution_count": 20,
     "metadata": {},
     "output_type": "execute_result"
    }
   ],
   "source": [
    "tech_list"
   ]
  },
  {
   "cell_type": "code",
   "execution_count": 21,
   "metadata": {},
   "outputs": [
    {
     "data": {
      "text/plain": [
       "['drones',\n",
       " 'computer',\n",
       " 'games',\n",
       " 'cameras',\n",
       " 'movies',\n",
       " 'videogames',\n",
       " 'PS5',\n",
       " 'Xbox Series X',\n",
       " 'Switch']"
      ]
     },
     "execution_count": 21,
     "metadata": {},
     "output_type": "execute_result"
    }
   ],
   "source": [
    "del tech_list[5]\n",
    "tech_list"
   ]
  },
  {
   "cell_type": "markdown",
   "metadata": {},
   "source": [
    "Another option is also to use the clear() method to empty the list:"
   ]
  },
  {
   "cell_type": "code",
   "execution_count": 22,
   "metadata": {},
   "outputs": [],
   "source": [
    "consoles.clear()"
   ]
  },
  {
   "cell_type": "code",
   "execution_count": 23,
   "metadata": {},
   "outputs": [
    {
     "data": {
      "text/plain": [
       "[]"
      ]
     },
     "execution_count": 23,
     "metadata": {},
     "output_type": "execute_result"
    }
   ],
   "source": [
    "consoles"
   ]
  },
  {
   "cell_type": "markdown",
   "metadata": {},
   "source": [
    "### Loops inside a List"
   ]
  },
  {
   "cell_type": "code",
   "execution_count": 24,
   "metadata": {},
   "outputs": [
    {
     "name": "stdout",
     "output_type": "stream",
     "text": [
      "drones\n",
      "computer\n",
      "games\n",
      "cameras\n",
      "movies\n",
      "videogames\n",
      "PS5\n",
      "Xbox Series X\n",
      "Switch\n"
     ]
    }
   ],
   "source": [
    "for i in tech_list:\n",
    "    print(i)"
   ]
  },
  {
   "cell_type": "code",
   "execution_count": 25,
   "metadata": {},
   "outputs": [
    {
     "name": "stdout",
     "output_type": "stream",
     "text": [
      "drones\n",
      "computer\n",
      "games\n",
      "cameras\n",
      "movies\n",
      "videogames\n",
      "PS5\n",
      "Xbox Series X\n",
      "Switch\n"
     ]
    }
   ],
   "source": [
    "# you can also use the index of the list\n",
    "\n",
    "for j in range(len(tech_list)):\n",
    "    print(tech_list[j])"
   ]
  },
  {
   "cell_type": "markdown",
   "metadata": {},
   "source": [
    "We can also use while loops:"
   ]
  },
  {
   "cell_type": "code",
   "execution_count": 26,
   "metadata": {},
   "outputs": [
    {
     "name": "stdout",
     "output_type": "stream",
     "text": [
      "drones\n",
      "computer\n",
      "games\n",
      "cameras\n",
      "movies\n",
      "videogames\n",
      "PS5\n",
      "Xbox Series X\n",
      "Switch\n"
     ]
    }
   ],
   "source": [
    "i = 0\n",
    "while i < len(tech_list):\n",
    "    print(tech_list[i])\n",
    "    i=i+1\n",
    "    "
   ]
  },
  {
   "cell_type": "code",
   "execution_count": 27,
   "metadata": {},
   "outputs": [
    {
     "name": "stdout",
     "output_type": "stream",
     "text": [
      "drones\n",
      "computer\n",
      "games\n",
      "cameras\n",
      "movies\n",
      "videogames\n",
      "PS5\n",
      "Xbox Series X\n",
      "Switch\n"
     ]
    },
    {
     "data": {
      "text/plain": [
       "[None, None, None, None, None, None, None, None, None]"
      ]
     },
     "execution_count": 27,
     "metadata": {},
     "output_type": "execute_result"
    }
   ],
   "source": [
    "# We can also use List Comprehensive\n",
    "\n",
    "[print(x) for x in tech_list]"
   ]
  },
  {
   "cell_type": "markdown",
   "metadata": {},
   "source": [
    "### Copying a List"
   ]
  },
  {
   "cell_type": "markdown",
   "metadata": {},
   "source": [
    "Use the copy() method: "
   ]
  },
  {
   "cell_type": "code",
   "execution_count": 33,
   "metadata": {
    "scrolled": true
   },
   "outputs": [
    {
     "data": {
      "text/plain": [
       "['drones',\n",
       " 'computer',\n",
       " 'games',\n",
       " 'cameras',\n",
       " 'movies',\n",
       " 'videogames',\n",
       " 'PS5',\n",
       " 'Xbox Series X',\n",
       " 'Switch']"
      ]
     },
     "execution_count": 33,
     "metadata": {},
     "output_type": "execute_result"
    }
   ],
   "source": [
    "# Don't copy lists by making them equal: list = list2\n",
    "\n",
    "consoles = tech_list.copy()\n",
    "consoles"
   ]
  },
  {
   "cell_type": "code",
   "execution_count": 34,
   "metadata": {},
   "outputs": [
    {
     "data": {
      "text/plain": [
       "['PS5', 'Xbox Series X', 'Switch']"
      ]
     },
     "execution_count": 34,
     "metadata": {},
     "output_type": "execute_result"
    }
   ],
   "source": [
    "del consoles[:6]\n",
    "consoles"
   ]
  },
  {
   "cell_type": "markdown",
   "metadata": {},
   "source": [
    "### Joining two lists"
   ]
  },
  {
   "cell_type": "markdown",
   "metadata": {},
   "source": [
    "We can join or concatenate lists by using the + operator or using the append() method:"
   ]
  },
  {
   "cell_type": "code",
   "execution_count": 35,
   "metadata": {},
   "outputs": [
    {
     "data": {
      "text/plain": [
       "['drones',\n",
       " 'computer',\n",
       " 'games',\n",
       " 'cameras',\n",
       " 'movies',\n",
       " 'videogames',\n",
       " 'PS5',\n",
       " 'Xbox Series X',\n",
       " 'Switch',\n",
       " 'PS5',\n",
       " 'Xbox Series X',\n",
       " 'Switch']"
      ]
     },
     "execution_count": 35,
     "metadata": {},
     "output_type": "execute_result"
    }
   ],
   "source": [
    "tech_purchases = tech_list + consoles\n",
    "tech_purchases"
   ]
  },
  {
   "cell_type": "code",
   "execution_count": 36,
   "metadata": {
    "scrolled": true
   },
   "outputs": [
    {
     "data": {
      "text/plain": [
       "['drones',\n",
       " 'computer',\n",
       " 'games',\n",
       " 'cameras',\n",
       " 'movies',\n",
       " 'videogames',\n",
       " 'PS5',\n",
       " 'Xbox Series X',\n",
       " 'Switch']"
      ]
     },
     "execution_count": 36,
     "metadata": {},
     "output_type": "execute_result"
    }
   ],
   "source": [
    "consoles.clear()\n",
    "\n",
    "# extend() is another option here\n",
    "for x in tech_list:\n",
    "    consoles.append(x)\n",
    "consoles\n"
   ]
  },
  {
   "cell_type": "code",
   "execution_count": 37,
   "metadata": {},
   "outputs": [
    {
     "data": {
      "text/plain": [
       "['PS5', 'Xbox Series X', 'Switch']"
      ]
     },
     "execution_count": 37,
     "metadata": {},
     "output_type": "execute_result"
    }
   ],
   "source": [
    "del consoles[:6]\n",
    "consoles"
   ]
  },
  {
   "cell_type": "code",
   "execution_count": null,
   "metadata": {},
   "outputs": [],
   "source": []
  },
  {
   "cell_type": "markdown",
   "metadata": {},
   "source": [
    "## Creating a List Class in Python"
   ]
  },
  {
   "cell_type": "markdown",
   "metadata": {},
   "source": [
    "Let's create a Python List class to implement a List from scratch:"
   ]
  },
  {
   "cell_type": "code",
   "execution_count": 39,
   "metadata": {},
   "outputs": [],
   "source": [
    "class PyList:\n",
    "    # PyList Constructor\n",
    "    def __init__(self, contents=[], size=10):\n",
    "        # contents allow the programmer to construct a list with the initial contents of this value\n",
    "        # size allows to pick a size for the internal size of the list\n",
    "        self.items = [None]*size\n",
    "        self.numItems = 0\n",
    "        self.size = size\n",
    "        \n",
    "        for e in contents:\n",
    "            self.append(e)\n",
    "    \n",
    "    # Get and Set\n",
    "    def __getitem__(self, index):\n",
    "        if index >=0 and index < self.numItems:\n",
    "            return self.items[index]\n",
    "        raise IndexError(\"PyList index out of range\")\n",
    "        \n",
    "    def __setitem__(self, index, val):\n",
    "        if index >= 0 and index < self.numItems:\n",
    "            self.items[index] = val\n",
    "            return\n",
    "        raise IndexError(\"PyList assignment index out of range\")\n",
    "        \n",
    "    # Concatenating \n",
    "    # To concatenate two lists we need to create another one with the contents of both\n",
    "    # This way it does not mutate either list\n",
    "    def __add__(self, other):\n",
    "        result = PyList(size=self.numItems+other.numItems)\n",
    "        \n",
    "        for i in range(self.numItems):\n",
    "            result.append(self.items[i])\n",
    "            \n",
    "        for i in range(other.numItems):\n",
    "            result.append(other.items[i])\n",
    "        return result\n",
    "    \n",
    "    # Append PyList\n",
    "    \n",
    "    def __makeroom(self):\n",
    "        # Increase the list size by 1/4 and adds 1 in case self.size is 0\n",
    "        newlen = (self.size//4)+self.size+1\n",
    "        newlst = [None]*newlen\n",
    "        for i in range(self.numItems):\n",
    "            newlst[i] = self.items[i]\n",
    "        \n",
    "        self.items = newlst\n",
    "        self.size = newlen\n",
    "    \n",
    "    def append(self, item):\n",
    "        if self.numItems == self.size:\n",
    "            self.__makeroom()\n",
    "        \n",
    "        self.items[self.numItems] = item\n",
    "        self.numItems += 1\n",
    "    \n",
    "    # PyList Insert\n",
    "    def insert(self, i, e):\n",
    "        if self.numItems == self.size:\n",
    "            self.__makeroom()\n",
    "            \n",
    "        if i < self.numItems:\n",
    "            for j in range(self.numItems-1, i-1, -1):\n",
    "                self.items[j+1] = self.items[j]\n",
    "                \n",
    "            self.items[i] = e\n",
    "            self.numItems +=1\n",
    "        else: \n",
    "            self.append(e)\n",
    "            \n",
    "    # PyList Delete\n",
    "    def __delitem__(self, index):\n",
    "        for i in range(index, self.numitems-1):\n",
    "            self.items[i] = self.items[i+1]\n",
    "        self.numItems -= 1\n",
    "        \n",
    "    # PyList Membership\n",
    "    def __contains__(self, item):\n",
    "        for i in range(self.numItems):\n",
    "            if self.items[i] == item:\n",
    "                return True\n",
    "        \n",
    "        return False\n",
    "    \n",
    "    # PyList String Conversion\n",
    "    def __str__(self):\n",
    "        s = \"[\"\n",
    "        for i in range(self.numItems):\n",
    "            s = s + repr(self.items[i])\n",
    "            if i < self.numItems -1:\n",
    "                s = s + \", \"\n",
    "        s = s + \"]\"\n",
    "        return s"
   ]
  },
  {
   "cell_type": "code",
   "execution_count": 40,
   "metadata": {},
   "outputs": [],
   "source": [
    "test_list = PyList([\"computer\", \"drones\", \"cameras\", \"videogames\", \"tablets\"])"
   ]
  },
  {
   "cell_type": "code",
   "execution_count": 42,
   "metadata": {},
   "outputs": [
    {
     "name": "stdout",
     "output_type": "stream",
     "text": [
      "tablets\n"
     ]
    }
   ],
   "source": [
    "print(test_list[4])"
   ]
  },
  {
   "cell_type": "code",
   "execution_count": 43,
   "metadata": {},
   "outputs": [],
   "source": [
    "consoles = PyList([\"Ps5\", \"Xbox\", \"Switch\"])"
   ]
  },
  {
   "cell_type": "code",
   "execution_count": 44,
   "metadata": {},
   "outputs": [
    {
     "name": "stdout",
     "output_type": "stream",
     "text": [
      "Ps5\n"
     ]
    }
   ],
   "source": [
    "print(consoles[0])"
   ]
  },
  {
   "cell_type": "code",
   "execution_count": 45,
   "metadata": {},
   "outputs": [],
   "source": [
    "test_list.append(\"consoles\")"
   ]
  },
  {
   "cell_type": "code",
   "execution_count": 46,
   "metadata": {},
   "outputs": [
    {
     "name": "stdout",
     "output_type": "stream",
     "text": [
      "consoles\n"
     ]
    }
   ],
   "source": [
    "print(test_list[5])"
   ]
  },
  {
   "cell_type": "code",
   "execution_count": 47,
   "metadata": {},
   "outputs": [],
   "source": [
    "test_list.insert(6, \"movies\")"
   ]
  },
  {
   "cell_type": "code",
   "execution_count": 48,
   "metadata": {
    "scrolled": true
   },
   "outputs": [
    {
     "name": "stdout",
     "output_type": "stream",
     "text": [
      "computer\n",
      "drones\n",
      "cameras\n",
      "videogames\n",
      "tablets\n",
      "consoles\n",
      "movies\n"
     ]
    }
   ],
   "source": [
    "for x in test_list:\n",
    "    print(x)"
   ]
  },
  {
   "cell_type": "markdown",
   "metadata": {},
   "source": [
    "## Linked Lists"
   ]
  },
  {
   "cell_type": "code",
   "execution_count": null,
   "metadata": {},
   "outputs": [],
   "source": [
    "class LinkedList:\n",
    "    \n",
    "    # Let's create the class Node which is invisible from the outside\n",
    "    # can only be used from inside the LinkedList class\n",
    "    class __Node:\n",
    "        def __init__(self, item, next=None):\n",
    "            self.item = item\n",
    "            self.next = next\n",
    "            \n",
    "        def getItem(self):\n",
    "            return self.item\n",
    "        \n",
    "        def getNext(self):\n",
    "            return self.next\n",
    "        \n",
    "        def setItem(self, item):\n",
    "            self.item = item\n",
    "        \n",
    "        def setNext(self,next):\n",
    "            self.next = next\n",
    "    \n",
    "    # Constructor of the Linked List\n",
    "    \n",
    "    def __init__(self, contents=[]):\n",
    "        # Reference to the first node in the linked list\n",
    "        # and the last item in the list\n",
    "        # they both point to a dummy node in the first position in the list\n",
    "        # its purpose is to eliminate special cases in the code below\n",
    "        \n",
    "        self.LinkedList.__Node(None,None)\n",
    "        self.last = self.first\n",
    "        self.numItems = 0\n",
    "    \n",
    "        for e in contents:\n",
    "            self.append(e)\n",
    "            \n",
    "    # Linked List get and set\n",
    "    def __getitem__(self, index):\n",
    "        if index >= 0 and index < self.numItems:\n",
    "            cursor = self.first.getNext()\n",
    "            for i in range(index):\n",
    "                cursor = cursor.getNext()\n",
    "                \n",
    "            return cursor.getItem()\n",
    "        \n",
    "        raise IndexError(\"LinkedList index out of range\")\n",
    "    \n",
    "    def __setitem__(self, index, val):\n",
    "        if index >= 0 and index < self.numItems:\n",
    "            cursor = self.first.getNext()\n",
    "            for i in range(index):\n",
    "                cursor = cursor.getNext()\n",
    "            \n",
    "            cursor.setItem(val)\n",
    "            return\n",
    "        \n",
    "        raise IndexError(\"LinkedList assignment index out of range\")\n",
    "        \n",
    "    \n",
    "    # Concatenate\n",
    "    def__add__(self, other):\n",
    "        if type(self) != type(other):\n",
    "            raise TypeError(\"Concatenate undefined for \" + \\str(type(self)) + \" + \" + str(type(other)))\n",
    "            \n",
    "        result = LinkedList()\n",
    "        \n",
    "        cursor = self.first.getNext()\n",
    "        \n",
    "        while cursor != None:\n",
    "            result.append(cursor.getItem())\n",
    "            cursor = cursor.getNext()\n",
    "            \n",
    "        cursor = other.first.getNext()\n",
    "        \n",
    "        while cursor != None:\n",
    "            result.append(cursor.getItem())\n",
    "            cursor = cursor.getNext()\n",
    "        \n",
    "        return result\n",
    "    \n",
    "    # Append\n",
    "    def append(self, item):\n",
    "        node = LinkedList.__Node(item)\n",
    "        self.last.setNext(node)\n",
    "        self.last = node\n",
    "        self.numItems += 1\n",
    "        \n",
    "    # Insertion\n",
    "    def insert(self, index, item):\n",
    "        cursor = self.first\n",
    "        \n",
    "        if index < self.numItems:\n",
    "            for i in range(index):\n",
    "                cursor = cursor.getNext()\n",
    "                \n",
    "            node = LinkedList.__Node(item, cursor.getNext())\n",
    "            cursor.setNext(node)\n",
    "            self.numItems += 1\n",
    "        else:\n",
    "            self.append(item)\n",
    "    \n",
    "            "
   ]
  }
 ],
 "metadata": {
  "kernelspec": {
   "display_name": "Python 3",
   "language": "python",
   "name": "python3"
  },
  "language_info": {
   "codemirror_mode": {
    "name": "ipython",
    "version": 3
   },
   "file_extension": ".py",
   "mimetype": "text/x-python",
   "name": "python",
   "nbconvert_exporter": "python",
   "pygments_lexer": "ipython3",
   "version": "3.8.3"
  }
 },
 "nbformat": 4,
 "nbformat_minor": 4
}
