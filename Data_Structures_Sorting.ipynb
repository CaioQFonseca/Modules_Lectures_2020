{
 "cells": [
  {
   "cell_type": "markdown",
   "metadata": {},
   "source": [
    "# Sorting"
   ]
  },
  {
   "cell_type": "markdown",
   "metadata": {},
   "source": [
    "References:\n",
    "\n",
    "* Data Structures and Algorithms with Python - Kent Lee & Steve Hubbard\n"
   ]
  },
  {
   "cell_type": "markdown",
   "metadata": {},
   "source": [
    " "
   ]
  },
  {
   "cell_type": "markdown",
   "metadata": {},
   "source": [
    "### Selection Sort Example"
   ]
  },
  {
   "cell_type": "code",
   "execution_count": null,
   "metadata": {},
   "outputs": [],
   "source": [
    "def selectionSort(a):\n",
    "    for sp in range(len(a)-1):\n",
    "        smallestIndex = sp\n",
    "        i = sp+1\n",
    "        for i in range(i, len(a)):\n",
    "            if a[i] < a[smallestIndex]:\n",
    "                smallestIndex = i\n",
    "        \n",
    "        if smallestIndex != sp:\n",
    "            swap=a[sp]\n",
    "            a[sp] = a[smallestIndex]\n",
    "            a[smallestIndex]=swap\n",
    "            print(a)\n",
    "    return a"
   ]
  },
  {
   "cell_type": "code",
   "execution_count": 52,
   "metadata": {},
   "outputs": [],
   "source": [
    "def select(seq, start):\n",
    "    minIndex = start\n",
    "    \n",
    "    for i in range(start+1, len(seq)):\n",
    "        if seq[minIndex] > seq[i]:\n",
    "            minIndex = i\n",
    "    \n",
    "    return minIndex\n",
    "\n",
    "def selectSort(seq):\n",
    "    for i in range(len(seq)-1):\n",
    "        minIndex = select(seq, i)\n",
    "        tmp = seq[i]\n",
    "        seq[i] = seq[minIndex]\n",
    "        seq[minIndex] = tmp\n",
    "        print(seq)\n",
    "    return seq"
   ]
  },
  {
   "cell_type": "code",
   "execution_count": null,
   "metadata": {},
   "outputs": [],
   "source": [
    "a = [5, 8, 3, 10, 11, 2, 1, 20]\n",
    "a"
   ]
  },
  {
   "cell_type": "code",
   "execution_count": null,
   "metadata": {
    "scrolled": true
   },
   "outputs": [],
   "source": [
    "selectionSort(a)"
   ]
  },
  {
   "cell_type": "code",
   "execution_count": null,
   "metadata": {},
   "outputs": [],
   "source": [
    "select(a, 0)\n",
    "selectSort(a)"
   ]
  },
  {
   "cell_type": "code",
   "execution_count": null,
   "metadata": {},
   "outputs": [],
   "source": [
    "a"
   ]
  },
  {
   "cell_type": "markdown",
   "metadata": {},
   "source": [
    " "
   ]
  },
  {
   "cell_type": "markdown",
   "metadata": {},
   "source": [
    "### Insertion Sort Example"
   ]
  },
  {
   "cell_type": "code",
   "execution_count": 8,
   "metadata": {},
   "outputs": [],
   "source": [
    "def insertionSort(a):\n",
    "    for e in range(len(a)):\n",
    "        elem=a[e]\n",
    "        i = e\n",
    "        for i in range(0, i):\n",
    "            if a[e]< a[i]:\n",
    "                temp = a[e]\n",
    "                a[e] = a[i]\n",
    "                a[i] = temp\n",
    "        print(a)\n",
    "    return a"
   ]
  },
  {
   "cell_type": "code",
   "execution_count": 11,
   "metadata": {},
   "outputs": [],
   "source": [
    "def insertionSortSlides(a):\n",
    "    for e in range(1, len(a)):\n",
    "        elem = a[e]\n",
    "        i = e\n",
    "        for i in range(i, 1, -1):\n",
    "            if a[i]< a[i-1]:\n",
    "                tmp = a[i]\n",
    "                a[i-1] = a[i]\n",
    "                a[i] = tmp\n",
    "        \n",
    "        a[i] = elem\n",
    "        \n",
    "    return a"
   ]
  },
  {
   "cell_type": "code",
   "execution_count": 46,
   "metadata": {
    "scrolled": true
   },
   "outputs": [
    {
     "data": {
      "text/plain": [
       "[5, 8, 3, 10, 11, 2, 1, 20]"
      ]
     },
     "execution_count": 46,
     "metadata": {},
     "output_type": "execute_result"
    }
   ],
   "source": [
    "a = [5, 8, 3, 10, 11, 2, 1, 20]\n",
    "a"
   ]
  },
  {
   "cell_type": "code",
   "execution_count": 10,
   "metadata": {
    "scrolled": true
   },
   "outputs": [
    {
     "name": "stdout",
     "output_type": "stream",
     "text": [
      "[5, 8, 3, 10, 11, 2, 1, 20]\n",
      "[5, 8, 3, 10, 11, 2, 1, 20]\n",
      "[3, 5, 8, 10, 11, 2, 1, 20]\n",
      "[3, 5, 8, 10, 11, 2, 1, 20]\n",
      "[3, 5, 8, 10, 11, 2, 1, 20]\n",
      "[2, 3, 5, 8, 10, 11, 1, 20]\n",
      "[1, 2, 3, 5, 8, 10, 11, 20]\n",
      "[1, 2, 3, 5, 8, 10, 11, 20]\n"
     ]
    },
    {
     "data": {
      "text/plain": [
       "[1, 2, 3, 5, 8, 10, 11, 20]"
      ]
     },
     "execution_count": 10,
     "metadata": {},
     "output_type": "execute_result"
    }
   ],
   "source": [
    "insertionSort(a)"
   ]
  },
  {
   "cell_type": "code",
   "execution_count": 47,
   "metadata": {
    "scrolled": false
   },
   "outputs": [
    {
     "data": {
      "text/plain": [
       "[5, 1, 20, 1, 1, 1, 1, 20]"
      ]
     },
     "execution_count": 47,
     "metadata": {},
     "output_type": "execute_result"
    }
   ],
   "source": [
    "insertionSortSlides(a)"
   ]
  },
  {
   "cell_type": "code",
   "execution_count": null,
   "metadata": {},
   "outputs": [],
   "source": []
  },
  {
   "cell_type": "code",
   "execution_count": null,
   "metadata": {},
   "outputs": [],
   "source": []
  },
  {
   "cell_type": "markdown",
   "metadata": {},
   "source": [
    "## Shellsort Example"
   ]
  },
  {
   "cell_type": "markdown",
   "metadata": {},
   "source": [
    "Variant of Insertion sorting method"
   ]
  },
  {
   "cell_type": "code",
   "execution_count": null,
   "metadata": {},
   "outputs": [],
   "source": [
    "test_list = [4, 1, 6, 77, 6, 42, 11, 8, 2, 9, 14, 3]\n",
    "test_list"
   ]
  },
  {
   "cell_type": "code",
   "execution_count": null,
   "metadata": {},
   "outputs": [],
   "source": [
    "# reference for this function: https://www.geeksforgeeks.org/python-program-for-shellsort/\n",
    "    \n",
    "def shellSort(a):\n",
    "    n = len(a)\n",
    "    gap = n//2\n",
    "    gap = int(gap)\n",
    "    \n",
    "    while gap>0:\n",
    "        \n",
    "        for i in range(gap, n):\n",
    "            temp = a[i]\n",
    "            \n",
    "            j = i\n",
    "            while j>= gap and a[j-gap] > temp:\n",
    "                a[j] = a[j-gap]\n",
    "                j -= gap\n",
    "        \n",
    "            a[j] = temp\n",
    "        gap /=2\n",
    "    \n",
    "    return a"
   ]
  },
  {
   "cell_type": "code",
   "execution_count": null,
   "metadata": {},
   "outputs": [],
   "source": []
  },
  {
   "cell_type": "code",
   "execution_count": null,
   "metadata": {},
   "outputs": [],
   "source": [
    "shellSort(test_list)\n",
    "test_list"
   ]
  },
  {
   "cell_type": "code",
   "execution_count": null,
   "metadata": {},
   "outputs": [],
   "source": []
  },
  {
   "cell_type": "code",
   "execution_count": null,
   "metadata": {},
   "outputs": [],
   "source": []
  },
  {
   "cell_type": "markdown",
   "metadata": {},
   "source": [
    "### Bubble Sort Example"
   ]
  },
  {
   "cell_type": "code",
   "execution_count": 19,
   "metadata": {},
   "outputs": [],
   "source": [
    "def bubbleSort(a):\n",
    "    for b in range(1, len(a)):\n",
    "        for i in range(0, len(a)-b):\n",
    "            if a[i]>a[i+1]:\n",
    "                swap = a[i]\n",
    "                a[i] = a[i+1]\n",
    "                a[i+1] = swap\n",
    "        print(a)\n",
    "    return a\n"
   ]
  },
  {
   "cell_type": "code",
   "execution_count": 20,
   "metadata": {
    "scrolled": true
   },
   "outputs": [
    {
     "data": {
      "text/plain": [
       "[5, 8, 3, 10, 11, 2, 1, 20]"
      ]
     },
     "execution_count": 20,
     "metadata": {},
     "output_type": "execute_result"
    }
   ],
   "source": [
    "seq = [5, 8, 3, 10, 11, 2, 1, 20]\n",
    "seq"
   ]
  },
  {
   "cell_type": "code",
   "execution_count": 21,
   "metadata": {},
   "outputs": [
    {
     "name": "stdout",
     "output_type": "stream",
     "text": [
      "[5, 3, 8, 10, 2, 1, 11, 20]\n",
      "[3, 5, 8, 2, 1, 10, 11, 20]\n",
      "[3, 5, 2, 1, 8, 10, 11, 20]\n",
      "[3, 2, 1, 5, 8, 10, 11, 20]\n",
      "[2, 1, 3, 5, 8, 10, 11, 20]\n",
      "[1, 2, 3, 5, 8, 10, 11, 20]\n",
      "[1, 2, 3, 5, 8, 10, 11, 20]\n"
     ]
    },
    {
     "data": {
      "text/plain": [
       "[1, 2, 3, 5, 8, 10, 11, 20]"
      ]
     },
     "execution_count": 21,
     "metadata": {},
     "output_type": "execute_result"
    }
   ],
   "source": [
    "bubbleSort(seq)"
   ]
  },
  {
   "cell_type": "markdown",
   "metadata": {},
   "source": [
    "#### Comb Sort"
   ]
  },
  {
   "cell_type": "code",
   "execution_count": 33,
   "metadata": {},
   "outputs": [],
   "source": [
    "# Reference: https://www.geeksforgeeks.org/python-program-for-comb-sort/\n",
    "\n",
    "def getNextGap(gap):\n",
    "    gap = (gap*10)//13\n",
    "    if gap < 1:\n",
    "        return 1\n",
    "    return gap\n",
    "\n",
    "def combSort(seq):\n",
    "    n = len(seq)\n",
    "    \n",
    "    gap = n\n",
    "    \n",
    "    swapped = True\n",
    "    \n",
    "    while gap!=1 or swapped==1:\n",
    "        gap = getNextGap(gap)\n",
    "        \n",
    "        swapped = False\n",
    "        \n",
    "        for i in range(0, n-gap):\n",
    "            if seq[i] > seq[i+gap]:\n",
    "                seq[i], seq[i+gap]=seq[i+gap], seq[i]\n",
    "                swapped = True\n",
    "        print(seq)\n",
    "    return seq"
   ]
  },
  {
   "cell_type": "code",
   "execution_count": 34,
   "metadata": {
    "scrolled": true
   },
   "outputs": [
    {
     "data": {
      "text/plain": [
       "[5, 8, 3, 10, 11, 2, 1, 20]"
      ]
     },
     "execution_count": 34,
     "metadata": {},
     "output_type": "execute_result"
    }
   ],
   "source": [
    "seq = [5, 8, 3, 10, 11, 2, 1, 20]\n",
    "seq"
   ]
  },
  {
   "cell_type": "code",
   "execution_count": 35,
   "metadata": {
    "scrolled": false
   },
   "outputs": [
    {
     "name": "stdout",
     "output_type": "stream",
     "text": [
      "[1, 8, 3, 10, 11, 2, 5, 20]\n",
      "[1, 2, 3, 10, 11, 8, 5, 20]\n",
      "[1, 2, 3, 5, 11, 8, 10, 20]\n",
      "[1, 2, 3, 5, 10, 8, 11, 20]\n",
      "[1, 2, 3, 5, 8, 10, 11, 20]\n",
      "[1, 2, 3, 5, 8, 10, 11, 20]\n"
     ]
    },
    {
     "data": {
      "text/plain": [
       "[1, 2, 3, 5, 8, 10, 11, 20]"
      ]
     },
     "execution_count": 35,
     "metadata": {},
     "output_type": "execute_result"
    }
   ],
   "source": [
    "combSort(seq)"
   ]
  },
  {
   "cell_type": "code",
   "execution_count": null,
   "metadata": {},
   "outputs": [],
   "source": []
  },
  {
   "cell_type": "markdown",
   "metadata": {},
   "source": [
    "#### Cocktail Sort"
   ]
  },
  {
   "cell_type": "code",
   "execution_count": 40,
   "metadata": {},
   "outputs": [],
   "source": [
    "# reference: https://www.tutorialspoint.com/python-program-for-cocktail-sort\n",
    "\n",
    "def cocktailSort(a):\n",
    "    n = len(a)\n",
    "    flag = True\n",
    "    start = 0\n",
    "    end = n-1\n",
    "    \n",
    "    while(flag == True):\n",
    "        flag = False\n",
    "        \n",
    "        for i in range(start, end):\n",
    "            if  a[i] > a[i+1]:\n",
    "                a[i], a[i+1] = a[i+1], a[i]\n",
    "                flag = True\n",
    "        \n",
    "        if flag == False:\n",
    "            break\n",
    "        flag = False\n",
    "        end = end-1\n",
    "        \n",
    "        for i in range(end-1, start-1, -1):\n",
    "            if a[i] > a[i+1]:\n",
    "                a[i], a[i+1] = a[i+1], a[i]\n",
    "                flag = True\n",
    "            print(a)\n",
    "        start = start+1\n",
    "        \n",
    "    return a\n"
   ]
  },
  {
   "cell_type": "code",
   "execution_count": 195,
   "metadata": {},
   "outputs": [
    {
     "data": {
      "text/plain": [
       "[5, 8, 3, 10, 11, 2, 1, 20]"
      ]
     },
     "execution_count": 195,
     "metadata": {},
     "output_type": "execute_result"
    }
   ],
   "source": [
    "seq = [5, 8, 3, 10, 11, 2, 1, 20]\n",
    "seq"
   ]
  },
  {
   "cell_type": "code",
   "execution_count": 196,
   "metadata": {},
   "outputs": [
    {
     "name": "stdout",
     "output_type": "stream",
     "text": [
      "[5, 3, 8, 10, 2, 1, 11, 20]\n",
      "[5, 3, 8, 10, 1, 2, 11, 20]\n",
      "[5, 3, 8, 1, 10, 2, 11, 20]\n",
      "[5, 3, 1, 8, 10, 2, 11, 20]\n",
      "[5, 1, 3, 8, 10, 2, 11, 20]\n",
      "[1, 5, 3, 8, 10, 2, 11, 20]\n",
      "[1, 3, 5, 8, 2, 10, 11, 20]\n",
      "[1, 3, 5, 2, 8, 10, 11, 20]\n",
      "[1, 3, 2, 5, 8, 10, 11, 20]\n",
      "[1, 2, 3, 5, 8, 10, 11, 20]\n"
     ]
    },
    {
     "data": {
      "text/plain": [
       "[1, 2, 3, 5, 8, 10, 11, 20]"
      ]
     },
     "execution_count": 196,
     "metadata": {},
     "output_type": "execute_result"
    }
   ],
   "source": [
    "cocktailSort(seq)"
   ]
  },
  {
   "cell_type": "markdown",
   "metadata": {},
   "source": [
    "## Divide and Conquer Sort"
   ]
  },
  {
   "cell_type": "markdown",
   "metadata": {},
   "source": [
    "### QuickSort Example"
   ]
  },
  {
   "cell_type": "code",
   "execution_count": 116,
   "metadata": {},
   "outputs": [],
   "source": [
    "import random\n",
    "\n",
    "def partition(seq, start, stop):\n",
    "    pivotIndex = start\n",
    "    pivot = seq[pivotIndex]\n",
    "    i = start+1\n",
    "    j = stop-1\n",
    "    \n",
    "    while i<= j:\n",
    "        while i <= j and not pivot < seq[i]:\n",
    "            i+=1\n",
    "        while i <= j and pivot < seq[j]:\n",
    "            j -= 1\n",
    "        \n",
    "        if i < j:\n",
    "            tmp = seq[i]\n",
    "            seq[i] = seq[j]\n",
    "            seq[j] = tmp\n",
    "            i+=1\n",
    "            j-=1\n",
    "    \n",
    "    seq[pivotIndex] = seq[j]\n",
    "    seq[j] = pivot\n",
    "    \n",
    "    return j\n",
    "\n",
    "def quicksortRecursively(seq, start, stop):\n",
    "    if start >= stop-1:\n",
    "        return\n",
    "    \n",
    "    pivotIndex = partition(seq, start, stop)\n",
    "    quicksortRecursively(seq, start, pivotIndex)\n",
    "    quicksortRecursively(seq, pivotIndex+1, stop)\n",
    "    \n",
    "def quicksort(seq):\n",
    "    # randomize the sequence first\n",
    "    for i in range(len(seq)):\n",
    "        j = random.randint(0, len(seq)-1)\n",
    "        tmp = seq[i]\n",
    "        seq[i] = seq[j]\n",
    "        seq[j] = tmp\n",
    "    quicksortRecursively(seq, 0, len(seq))\n",
    "    \n",
    "    return seq"
   ]
  },
  {
   "cell_type": "code",
   "execution_count": 117,
   "metadata": {},
   "outputs": [
    {
     "data": {
      "text/plain": [
       "[5, 8, 3, 10, 11, 2, 1, 20]"
      ]
     },
     "execution_count": 117,
     "metadata": {},
     "output_type": "execute_result"
    }
   ],
   "source": [
    "seq = [5, 8, 3, 10, 11, 2, 1, 20]\n",
    "seq"
   ]
  },
  {
   "cell_type": "code",
   "execution_count": 118,
   "metadata": {},
   "outputs": [
    {
     "data": {
      "text/plain": [
       "[1, 2, 3, 5, 8, 10, 11, 20]"
      ]
     },
     "execution_count": 118,
     "metadata": {},
     "output_type": "execute_result"
    }
   ],
   "source": [
    "quicksort(seq)"
   ]
  },
  {
   "cell_type": "code",
   "execution_count": null,
   "metadata": {},
   "outputs": [],
   "source": []
  },
  {
   "cell_type": "markdown",
   "metadata": {},
   "source": [
    "### Merge Sort"
   ]
  },
  {
   "cell_type": "code",
   "execution_count": 154,
   "metadata": {},
   "outputs": [],
   "source": [
    "# Reference: https://www.geeksforgeeks.org/python-program-for-merge-sort/\n",
    "\n",
    "def merge(arr, l, m, r): \n",
    "    n1 = m - l + 1\n",
    "    n2 = r- m \n",
    "  \n",
    "    # create temp arrays \n",
    "    L = [0] * (n1) \n",
    "    R = [0] * (n2) \n",
    "  \n",
    "    # Copy data to temp arrays L[] and R[] \n",
    "    for i in range(0 , n1): \n",
    "        L[i] = arr[l + i] \n",
    "  \n",
    "    for j in range(0 , n2): \n",
    "        R[j] = arr[m + 1 + j] \n",
    "  \n",
    "    # Merge the temp arrays back into arr[l..r] \n",
    "    i = 0     # Initial index of first subarray \n",
    "    j = 0     # Initial index of second subarray \n",
    "    k = l     # Initial index of merged subarray \n",
    "  \n",
    "    while i < n1 and j < n2 : \n",
    "        if L[i] <= R[j]: \n",
    "            arr[k] = L[i] \n",
    "            i += 1\n",
    "        else: \n",
    "            arr[k] = R[j] \n",
    "            j += 1\n",
    "        k += 1\n",
    "  \n",
    "    # Copy the remaining elements of L[], if there \n",
    "    # are any \n",
    "    while i < n1: \n",
    "        arr[k] = L[i] \n",
    "        i += 1\n",
    "        k += 1\n",
    "  \n",
    "    # Copy the remaining elements of R[], if there \n",
    "    # are any \n",
    "    while j < n2: \n",
    "        arr[k] = R[j] \n",
    "        j += 1\n",
    "        k += 1\n",
    "  \n",
    "# l is for left index and r is right index of the \n",
    "# sub-array of arr to be sorted \n",
    "def mergeSort(arr,l,r): \n",
    "    if l < r: \n",
    "  \n",
    "        # Same as (l+r)//2, but avoids overflow for \n",
    "        # large l and h \n",
    "        m = (l+(r-1))//2\n",
    "  \n",
    "        # Sort first and second halves \n",
    "        mergeSort(arr, l, m) \n",
    "        mergeSort(arr, m+1, r) \n",
    "        merge(arr, l, m, r) \n",
    "    return arr"
   ]
  },
  {
   "cell_type": "code",
   "execution_count": 155,
   "metadata": {},
   "outputs": [
    {
     "data": {
      "text/plain": [
       "[5, 8, 3, 10, 11, 2, 1, 20]"
      ]
     },
     "execution_count": 155,
     "metadata": {},
     "output_type": "execute_result"
    }
   ],
   "source": [
    "seq = [5, 8, 3, 10, 11, 2, 1, 20]\n",
    "seq"
   ]
  },
  {
   "cell_type": "code",
   "execution_count": 156,
   "metadata": {
    "scrolled": true
   },
   "outputs": [
    {
     "data": {
      "text/plain": [
       "[1, 2, 3, 5, 8, 10, 11, 20]"
      ]
     },
     "execution_count": 156,
     "metadata": {},
     "output_type": "execute_result"
    }
   ],
   "source": [
    "mergeSort(seq, 0, len(seq)-1)"
   ]
  },
  {
   "cell_type": "markdown",
   "metadata": {},
   "source": [
    "## Binary Search Example"
   ]
  },
  {
   "cell_type": "markdown",
   "metadata": {},
   "source": [
    "### Recursive"
   ]
  },
  {
   "cell_type": "code",
   "execution_count": 70,
   "metadata": {},
   "outputs": [],
   "source": [
    "# Example reference: https://www.geeksforgeeks.org/python-program-for-binary-search/\n",
    "\n",
    "def binary_search(seq, low, high, x):\n",
    "    if high >= low:\n",
    "        mid = (high+low)//2\n",
    "        \n",
    "        if seq[mid] == x:\n",
    "            return mid\n",
    "        \n",
    "        elif seq[mid] > x:\n",
    "            return binary_search(seq, low, mid-1, x)\n",
    "        \n",
    "        else:\n",
    "            return binary_search(seq, mid+1, high, x)\n",
    "        \n",
    "    else: \n",
    "        return -1\n",
    "    \n"
   ]
  },
  {
   "cell_type": "code",
   "execution_count": null,
   "metadata": {},
   "outputs": [],
   "source": [
    "seq = [5, 8, 3, 10, 11, 2, 1, 20]\n",
    "seq"
   ]
  },
  {
   "cell_type": "code",
   "execution_count": null,
   "metadata": {},
   "outputs": [],
   "source": [
    "x = 10\n",
    "idx = binary_search(seq, 0, len(seq)-1, x)\n",
    "idx"
   ]
  },
  {
   "cell_type": "code",
   "execution_count": null,
   "metadata": {
    "scrolled": true
   },
   "outputs": [],
   "source": [
    "seq[3]"
   ]
  },
  {
   "cell_type": "markdown",
   "metadata": {},
   "source": [
    "### Iterative"
   ]
  },
  {
   "cell_type": "code",
   "execution_count": null,
   "metadata": {},
   "outputs": [],
   "source": [
    "def binary_search_iterative(seq, x):\n",
    "    start = 0\n",
    "    stop = len(seq) - 1\n",
    "    mid = 0\n",
    "    \n",
    "    while start <= stop:\n",
    "        mid = (stop + start)//2\n",
    "        \n",
    "        if seq[mid]< x:\n",
    "            start = mid+1\n",
    "            \n",
    "        elif seq[mid]>x:\n",
    "            stop = mid-1\n",
    "            \n",
    "        else:\n",
    "            return mid\n",
    "        \n",
    "    return -1"
   ]
  },
  {
   "cell_type": "code",
   "execution_count": null,
   "metadata": {},
   "outputs": [],
   "source": [
    "seq = [5, 8, 3, 10, 11, 2, 1, 20]\n",
    "seq"
   ]
  },
  {
   "cell_type": "code",
   "execution_count": null,
   "metadata": {},
   "outputs": [],
   "source": [
    "x = 10\n",
    "idx = binary_search_iterative(seq, x)\n",
    "idx\n"
   ]
  },
  {
   "cell_type": "code",
   "execution_count": null,
   "metadata": {},
   "outputs": [],
   "source": [
    "seq[3]"
   ]
  },
  {
   "cell_type": "markdown",
   "metadata": {},
   "source": [
    "## Python Sort() Method"
   ]
  },
  {
   "cell_type": "code",
   "execution_count": 44,
   "metadata": {},
   "outputs": [
    {
     "data": {
      "text/plain": [
       "[5, 8, 3, 10, 11, 2, 1, 20]"
      ]
     },
     "execution_count": 44,
     "metadata": {},
     "output_type": "execute_result"
    }
   ],
   "source": [
    "seq = [5, 8, 3, 10, 11, 2, 1, 20]\n",
    "seq"
   ]
  },
  {
   "cell_type": "code",
   "execution_count": 45,
   "metadata": {},
   "outputs": [
    {
     "data": {
      "text/plain": [
       "[1, 2, 3, 5, 8, 10, 11, 20]"
      ]
     },
     "execution_count": 45,
     "metadata": {},
     "output_type": "execute_result"
    }
   ],
   "source": [
    "seq.sort()\n",
    "seq"
   ]
  },
  {
   "cell_type": "markdown",
   "metadata": {},
   "source": [
    "# Creating a Sorting Class in Python to implement all the sorting methods"
   ]
  },
  {
   "cell_type": "markdown",
   "metadata": {},
   "source": [
    " "
   ]
  },
  {
   "cell_type": "code",
   "execution_count": 226,
   "metadata": {},
   "outputs": [],
   "source": [
    "import time \n",
    "class SortingClass():\n",
    "    def __init__(self, seq):\n",
    "        self.seq = seq\n",
    "    \n",
    "    def selectSort_class(self):\n",
    "        seq_sel = self.seq\n",
    "        start_time = time.time()\n",
    "        selectSort(seq_sel)\n",
    "        time_sel = (time.time() - start_time)\n",
    "        return time_sel\n",
    "    \n",
    "    def insertionSort_class(self):\n",
    "        start_time = time.time()\n",
    "        seq_ins = self.seq\n",
    "        insertionSort(seq_ins)\n",
    "        time_ins = (time.time() - start_time)\n",
    "        return time_ins\n",
    "    def bubbleSort_class(self):\n",
    "        print(\"Bubble Sort\")\n",
    "        start_time = time.time()\n",
    "        seq_bub = self.seq\n",
    "        bubbleSort(seq_bub)\n",
    "        time_bub = (time.time() - start_time)\n",
    "        return time_bub\n",
    "    \n",
    "    def quicksort_class(self):\n",
    "        start_time = time.time()\n",
    "        seq_quick = self.seq\n",
    "        quicksort(seq_quick)\n",
    "        time_quick = (time.time()-start_time)\n",
    "        return seq_quick, time_quick\n",
    "        \n",
    "    def mergeSort_class(self):\n",
    "        start_time = time.time()\n",
    "        seq_merge = self.seq\n",
    "        mergeSort(seq_merge, 0, len(self.seq)-1)\n",
    "        time_merge = (time.time()-start_time)\n",
    "        return seq_merge, time_merge\n",
    "        \n",
    "    def binary_search_class(self,x):\n",
    "        start_time = time.time()\n",
    "        idx = binary_search(self.seq, 0, len(self.seq)-1, x)\n",
    "        time_binary = time.time()-start_time\n",
    "        return idx, time_binary\n",
    "    \n",
    "    \n",
    "    "
   ]
  },
  {
   "cell_type": "code",
   "execution_count": 227,
   "metadata": {},
   "outputs": [
    {
     "data": {
      "text/plain": [
       "[5, 8, 3, 10, 11, 2, 1, 20]"
      ]
     },
     "execution_count": 227,
     "metadata": {},
     "output_type": "execute_result"
    }
   ],
   "source": [
    "seq = [5, 8, 3, 10, 11, 2, 1, 20]\n",
    "seq"
   ]
  },
  {
   "cell_type": "code",
   "execution_count": 228,
   "metadata": {},
   "outputs": [],
   "source": [
    "sort_class_obj = SortingClass(seq)"
   ]
  },
  {
   "cell_type": "code",
   "execution_count": 219,
   "metadata": {
    "scrolled": true
   },
   "outputs": [
    {
     "name": "stdout",
     "output_type": "stream",
     "text": [
      "[1, 8, 3, 10, 11, 2, 5, 20]\n",
      "[1, 2, 3, 10, 11, 8, 5, 20]\n",
      "[1, 2, 3, 10, 11, 8, 5, 20]\n",
      "[1, 2, 3, 5, 11, 8, 10, 20]\n",
      "[1, 2, 3, 5, 8, 11, 10, 20]\n",
      "[1, 2, 3, 5, 8, 10, 11, 20]\n",
      "[1, 2, 3, 5, 8, 10, 11, 20]\n"
     ]
    },
    {
     "data": {
      "text/plain": [
       "0.000392913818359375"
      ]
     },
     "execution_count": 219,
     "metadata": {},
     "output_type": "execute_result"
    }
   ],
   "source": [
    "sort_class_obj.selectSort_class()"
   ]
  },
  {
   "cell_type": "code",
   "execution_count": 220,
   "metadata": {},
   "outputs": [
    {
     "name": "stdout",
     "output_type": "stream",
     "text": [
      "[1, 2, 3, 5, 8, 10, 11, 20]\n",
      "[1, 2, 3, 5, 8, 10, 11, 20]\n",
      "[1, 2, 3, 5, 8, 10, 11, 20]\n",
      "[1, 2, 3, 5, 8, 10, 11, 20]\n",
      "[1, 2, 3, 5, 8, 10, 11, 20]\n",
      "[1, 2, 3, 5, 8, 10, 11, 20]\n",
      "[1, 2, 3, 5, 8, 10, 11, 20]\n",
      "[1, 2, 3, 5, 8, 10, 11, 20]\n"
     ]
    },
    {
     "data": {
      "text/plain": [
       "0.0004608631134033203"
      ]
     },
     "execution_count": 220,
     "metadata": {},
     "output_type": "execute_result"
    }
   ],
   "source": [
    "sort_class_obj.insertionSort_class()"
   ]
  },
  {
   "cell_type": "code",
   "execution_count": 225,
   "metadata": {},
   "outputs": [
    {
     "data": {
      "text/plain": [
       "(5, 5.0067901611328125e-06)"
      ]
     },
     "execution_count": 225,
     "metadata": {},
     "output_type": "execute_result"
    }
   ],
   "source": [
    "sort_class_obj.binary_search_class(10)"
   ]
  },
  {
   "cell_type": "code",
   "execution_count": 229,
   "metadata": {},
   "outputs": [
    {
     "data": {
      "text/plain": [
       "([1, 2, 3, 5, 8, 10, 11, 20], 0.00010704994201660156)"
      ]
     },
     "execution_count": 229,
     "metadata": {},
     "output_type": "execute_result"
    }
   ],
   "source": [
    "sort_class_obj.mergeSort_class()"
   ]
  },
  {
   "cell_type": "code",
   "execution_count": 223,
   "metadata": {},
   "outputs": [
    {
     "data": {
      "text/plain": [
       "([1, 2, 3, 5, 8, 10, 11, 20], 0.00011110305786132812)"
      ]
     },
     "execution_count": 223,
     "metadata": {},
     "output_type": "execute_result"
    }
   ],
   "source": [
    "sort_class_obj.quicksort_class()"
   ]
  },
  {
   "cell_type": "code",
   "execution_count": 224,
   "metadata": {},
   "outputs": [
    {
     "name": "stdout",
     "output_type": "stream",
     "text": [
      "Bubble Sort\n",
      "[1, 2, 3, 5, 8, 10, 11, 20]\n",
      "[1, 2, 3, 5, 8, 10, 11, 20]\n",
      "[1, 2, 3, 5, 8, 10, 11, 20]\n",
      "[1, 2, 3, 5, 8, 10, 11, 20]\n",
      "[1, 2, 3, 5, 8, 10, 11, 20]\n",
      "[1, 2, 3, 5, 8, 10, 11, 20]\n",
      "[1, 2, 3, 5, 8, 10, 11, 20]\n"
     ]
    },
    {
     "data": {
      "text/plain": [
       "0.00021314620971679688"
      ]
     },
     "execution_count": 224,
     "metadata": {},
     "output_type": "execute_result"
    }
   ],
   "source": [
    "sort_class_obj.bubbleSort_class()"
   ]
  },
  {
   "cell_type": "code",
   "execution_count": null,
   "metadata": {},
   "outputs": [],
   "source": []
  }
 ],
 "metadata": {
  "kernelspec": {
   "display_name": "Python 3",
   "language": "python",
   "name": "python3"
  },
  "language_info": {
   "codemirror_mode": {
    "name": "ipython",
    "version": 3
   },
   "file_extension": ".py",
   "mimetype": "text/x-python",
   "name": "python",
   "nbconvert_exporter": "python",
   "pygments_lexer": "ipython3",
   "version": "3.8.3"
  }
 },
 "nbformat": 4,
 "nbformat_minor": 4
}
