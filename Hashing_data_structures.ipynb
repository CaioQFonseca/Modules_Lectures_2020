{
 "cells": [
  {
   "cell_type": "markdown",
   "metadata": {},
   "source": [
    "# Hashing"
   ]
  },
  {
   "cell_type": "markdown",
   "metadata": {},
   "source": [
    "References:\n",
    "\n",
    "* Data Structures and Algorithms in Python - Kent Lee and Steve Hubbard"
   ]
  },
  {
   "cell_type": "markdown",
   "metadata": {},
   "source": [
    "Here we introduce the hash() method in Python and we will also build the hash class from scratch as demonstrated on the book reference"
   ]
  },
  {
   "cell_type": "markdown",
   "metadata": {},
   "source": [
    "Python has a built-in hash method that we can use to calculate the hash values of any object, given that the object is imutable"
   ]
  },
  {
   "cell_type": "code",
   "execution_count": null,
   "metadata": {},
   "outputs": [],
   "source": [
    "hash(\"abcde\")"
   ]
  },
  {
   "cell_type": "code",
   "execution_count": null,
   "metadata": {},
   "outputs": [],
   "source": [
    "hash(123)"
   ]
  },
  {
   "cell_type": "code",
   "execution_count": null,
   "metadata": {},
   "outputs": [],
   "source": [
    "hash('123')"
   ]
  },
  {
   "cell_type": "code",
   "execution_count": null,
   "metadata": {},
   "outputs": [],
   "source": [
    "test_set = {'movies', 'year', 'genre', 10}\n",
    "test_set"
   ]
  },
  {
   "cell_type": "code",
   "execution_count": null,
   "metadata": {
    "scrolled": true
   },
   "outputs": [],
   "source": [
    "hash(test_set)"
   ]
  },
  {
   "cell_type": "code",
   "execution_count": null,
   "metadata": {},
   "outputs": [],
   "source": [
    "test_list = ['movies', 'year', 'genre', 10]\n",
    "test_list"
   ]
  },
  {
   "cell_type": "code",
   "execution_count": null,
   "metadata": {},
   "outputs": [],
   "source": [
    "hash(test_list[0])"
   ]
  },
  {
   "cell_type": "code",
   "execution_count": null,
   "metadata": {},
   "outputs": [],
   "source": [
    "hash(test_list[2])"
   ]
  },
  {
   "cell_type": "code",
   "execution_count": null,
   "metadata": {},
   "outputs": [],
   "source": [
    "test_tuple = tuple(test_list)\n",
    "test_tuple"
   ]
  },
  {
   "cell_type": "code",
   "execution_count": null,
   "metadata": {},
   "outputs": [],
   "source": [
    "hash(test_tuple)"
   ]
  },
  {
   "cell_type": "code",
   "execution_count": null,
   "metadata": {},
   "outputs": [],
   "source": []
  },
  {
   "cell_type": "code",
   "execution_count": null,
   "metadata": {},
   "outputs": [],
   "source": []
  },
  {
   "cell_type": "markdown",
   "metadata": {},
   "source": [
    "## Hash Table"
   ]
  },
  {
   "cell_type": "code",
   "execution_count": 1,
   "metadata": {},
   "outputs": [
    {
     "data": {
      "text/plain": [
       "{'John': 20, 'James': 15, 'Paul': 30, 'Craig': 45, 'Paula': 27}"
      ]
     },
     "execution_count": 1,
     "metadata": {},
     "output_type": "execute_result"
    }
   ],
   "source": [
    "# Creating a dictionary\n",
    "\n",
    "name_dict = {\n",
    "    'John':20,\n",
    "    'James': 15,\n",
    "    'Paul':30,\n",
    "    'Craig':45,\n",
    "    'Paula':27\n",
    "}\n",
    "name_dict"
   ]
  },
  {
   "cell_type": "code",
   "execution_count": 3,
   "metadata": {},
   "outputs": [],
   "source": [
    "def hash_test(key, hashtablesize):\n",
    "    total = 0\n",
    "    for i in range(len(key)):\n",
    "        total += ord(key[i])\n",
    "    \n",
    "    return total%hashtablesize \n",
    "    \n",
    "    "
   ]
  },
  {
   "cell_type": "code",
   "execution_count": 19,
   "metadata": {},
   "outputs": [
    {
     "data": {
      "text/plain": [
       "6"
      ]
     },
     "execution_count": 19,
     "metadata": {},
     "output_type": "execute_result"
    }
   ],
   "source": [
    "hash_test('Craig', 12)"
   ]
  },
  {
   "cell_type": "code",
   "execution_count": 12,
   "metadata": {
    "scrolled": false
   },
   "outputs": [
    {
     "data": {
      "text/plain": [
       "['John', 'James', 'Paul', 'Craig', 'Paula']"
      ]
     },
     "execution_count": 12,
     "metadata": {},
     "output_type": "execute_result"
    }
   ],
   "source": [
    "x = list(name_dict.keys())\n",
    "x"
   ]
  },
  {
   "cell_type": "code",
   "execution_count": null,
   "metadata": {},
   "outputs": [],
   "source": []
  },
  {
   "cell_type": "code",
   "execution_count": 13,
   "metadata": {},
   "outputs": [],
   "source": [
    "size = 12\n",
    "number_keys = 5\n",
    "array_hashed = [0]*size\n",
    "\n",
    "for i in range(number_keys):\n",
    "    var = hash_test(x[i], size)\n",
    "    if array_hashed[var] == 0:\n",
    "        array_hashed[var] = x[i]\n",
    "    i+=1"
   ]
  },
  {
   "cell_type": "code",
   "execution_count": 14,
   "metadata": {},
   "outputs": [
    {
     "data": {
      "text/plain": [
       "[0, 0, 0, 'John', 'James', 0, 'Paul', 'Paula', 0, 0, 0, 0]"
      ]
     },
     "execution_count": 14,
     "metadata": {},
     "output_type": "execute_result"
    }
   ],
   "source": [
    "array_hashed"
   ]
  },
  {
   "cell_type": "code",
   "execution_count": null,
   "metadata": {},
   "outputs": [],
   "source": [
    "var = hash_test('Craig', 12)\n",
    "var"
   ]
  },
  {
   "cell_type": "markdown",
   "metadata": {},
   "source": [
    "## Collision Resolution "
   ]
  },
  {
   "cell_type": "code",
   "execution_count": 20,
   "metadata": {},
   "outputs": [],
   "source": [
    "def hash_test2(key, hashtablesize):\n",
    "    total = 0\n",
    "    for i in range(len(key)):\n",
    "        total += ord(key[i])\n",
    "    \n",
    "    return total%(hashtablesize-3) \n",
    "    "
   ]
  },
  {
   "cell_type": "code",
   "execution_count": 22,
   "metadata": {},
   "outputs": [
    {
     "data": {
      "text/plain": [
       "['Craig', 0, 0, 'John', 'James', 0, 'Paul', 'Paula', 0, 0, 0, 0]"
      ]
     },
     "execution_count": 22,
     "metadata": {},
     "output_type": "execute_result"
    }
   ],
   "source": [
    "size = 12\n",
    "number_keys = 5\n",
    "array_hashed2 = [0]*size\n",
    "i = 0\n",
    "\n",
    "for i in range(number_keys):\n",
    "    var = hash_test(x[i], 12)\n",
    "    var2 = hash_test2(x[i], 12)\n",
    "\n",
    "    if array_hashed2[var] == 0:\n",
    "        array_hashed2[var] = x[i]\n",
    "    else:\n",
    "        array_hashed2[var2] = x[i]\n",
    "    i+=1 \n",
    "\n",
    "array_hashed2"
   ]
  },
  {
   "cell_type": "code",
   "execution_count": 23,
   "metadata": {
    "scrolled": true
   },
   "outputs": [
    {
     "data": {
      "text/plain": [
       "6"
      ]
     },
     "execution_count": 23,
     "metadata": {},
     "output_type": "execute_result"
    }
   ],
   "source": [
    "var = hash_test('Craig', 12)\n",
    "var"
   ]
  },
  {
   "cell_type": "code",
   "execution_count": 25,
   "metadata": {
    "scrolled": true
   },
   "outputs": [
    {
     "data": {
      "text/plain": [
       "0"
      ]
     },
     "execution_count": 25,
     "metadata": {},
     "output_type": "execute_result"
    }
   ],
   "source": [
    "var2 = hash_test2('Craig', 12)\n",
    "var2"
   ]
  },
  {
   "cell_type": "markdown",
   "metadata": {},
   "source": [
    "## Application - Storing Passwords\n",
    "\n",
    "Salt + Hashing\n",
    "\n",
    "Warning: This example and application here is for educational purposes, be aware that this is a simple demonstration to exemplify the process of storing a password with the method being used currently, however these hashes and salt we are doing are simpler than the ones used for real security applications. \n"
   ]
  },
  {
   "cell_type": "code",
   "execution_count": 26,
   "metadata": {},
   "outputs": [
    {
     "name": "stdout",
     "output_type": "stream",
     "text": [
      "Username:  nickname\n",
      "Password:  password1\n"
     ]
    }
   ],
   "source": [
    "username = input(\"Username:  \")\n",
    "password = input(\"Password:  \")\n",
    "\n",
    "username_hashed = hash(username)\n",
    "password_hashed = hash(password)"
   ]
  },
  {
   "cell_type": "code",
   "execution_count": 27,
   "metadata": {},
   "outputs": [
    {
     "data": {
      "text/plain": [
       "8998932324979292731"
      ]
     },
     "execution_count": 27,
     "metadata": {},
     "output_type": "execute_result"
    }
   ],
   "source": [
    "username_hashed"
   ]
  },
  {
   "cell_type": "code",
   "execution_count": 28,
   "metadata": {},
   "outputs": [
    {
     "data": {
      "text/plain": [
       "1417833961308575452"
      ]
     },
     "execution_count": 28,
     "metadata": {},
     "output_type": "execute_result"
    }
   ],
   "source": [
    "password_hashed"
   ]
  },
  {
   "cell_type": "markdown",
   "metadata": {},
   "source": [
    "If we store the passwords as it is now, it is really unsafe, because many people choose common words or numbers for passwords and therefore their hashes are all known, and it can also be obtained through known databases."
   ]
  },
  {
   "cell_type": "markdown",
   "metadata": {},
   "source": [
    " The idea here, is to store the password in a more secure way, which is adding a \"Salt\" into the password. Salt is a random string that will be added together with the original password and then the result of this union will be hashed, turning into a hash that is much more unique"
   ]
  },
  {
   "cell_type": "code",
   "execution_count": 29,
   "metadata": {},
   "outputs": [],
   "source": [
    "import random\n",
    "import string\n",
    "import hashlib\n",
    "\n",
    "def hash_password(password, size):\n",
    "    letters = string.ascii_lowercase\n",
    "    salt = ''.join(random.choice(letters) for i in range(size)) # random string\n",
    "    salted_password = password + salt\n",
    "    hashed_password = hash(salted_password)\n",
    "    hashed_sha256 = hashlib.sha256(salted_password.encode()).hexdigest()\n",
    "    \n",
    "    \n",
    "    return hashed_password, hashed_sha256, salted_password\n",
    "    \n",
    "    \n",
    "    "
   ]
  },
  {
   "cell_type": "code",
   "execution_count": 30,
   "metadata": {},
   "outputs": [
    {
     "data": {
      "text/plain": [
       "(-2362710329689258959,\n",
       " 'f19b50a385e74d371b8e8d9a73c620b2a188060102bf4a39419d89363f4abe99',\n",
       " 'password1nmxhwetcahafxxgsjxbr')"
      ]
     },
     "execution_count": 30,
     "metadata": {},
     "output_type": "execute_result"
    }
   ],
   "source": [
    "stored_password = hash_password(password, 20)\n",
    "stored_password"
   ]
  },
  {
   "cell_type": "code",
   "execution_count": 31,
   "metadata": {},
   "outputs": [
    {
     "data": {
      "text/plain": [
       "(2802096777197846963,\n",
       " '0af08d3c944f4548c45296e85f38de24f90e49aa5b203a6a723668865cdae212',\n",
       " 'password1dafjlwgbeljzinjmbhky')"
      ]
     },
     "execution_count": 31,
     "metadata": {},
     "output_type": "execute_result"
    }
   ],
   "source": [
    "stored_password = hash_password(password, 20)\n",
    "stored_password"
   ]
  },
  {
   "cell_type": "code",
   "execution_count": null,
   "metadata": {},
   "outputs": [],
   "source": []
  },
  {
   "cell_type": "markdown",
   "metadata": {},
   "source": [
    "## HashSet Class"
   ]
  },
  {
   "cell_type": "code",
   "execution_count": null,
   "metadata": {},
   "outputs": [],
   "source": [
    "class HashSet:\n",
    "    def __init__(self, contents=[]):\n",
    "        self.items = [None]*10\n",
    "        self.numItems = 0\n",
    "        \n",
    "        for item in contents:\n",
    "            self.add(item)\n",
    "            \n",
    "    \n",
    "    # HashSet Add Helper Function\n",
    "    def __add(item, items):\n",
    "        idx = hash(item)%len(items)\n",
    "        loc = -1\n",
    "        \n",
    "        while items[idx] != None:\n",
    "            if items[idx] == item:\n",
    "            # item already in set\n",
    "            return False\n",
    "        \n",
    "            if loc < 0 and type(items[idx]) == HashSet.__Placeholder:\n",
    "                loc = idx\n",
    "            \n",
    "            idx = (idx + 1)%len(items)\n",
    "            \n",
    "        if loc < 0:\n",
    "            loc = idx\n",
    "        \n",
    "        items[loc] = item\n",
    "        \n",
    "        return True\n",
    "    \n",
    "    \n",
    "    # HashSet Add\n",
    "    def __reshash(oldList, newList):\n",
    "        for x in oldList:\n",
    "            if x != None and type(x) != HashSet.__Placeholder:\n",
    "                HashSet.__add(x,newList)\n",
    "            \n",
    "            return newList\n",
    "        \n",
    "    def add(self, item):\n",
    "        if HashSet.__add(item, self.items):\n",
    "            self.numItems += 1\n",
    "            load = self.numItems/len(self.items)\n",
    "            if load >= 0.75:\n",
    "                self.items = HashSet.__rehash(self.items, [None]*2*len(self.items))\n",
    "                \n",
    "    # HashSet Remove Helper Function\n",
    "    class __Placeholder:\n",
    "        def __init__(self):\n",
    "            pass\n",
    "\n",
    "        def __eq__(self,other):\n",
    "            return False\n",
    "\n",
    "    def __remove(item,items):\n",
    "        idx = hash(item) % len(items)\n",
    "\n",
    "        while items[idx] != None:\n",
    "            if items[idx] == item:\n",
    "                nextIdx = (idx + 1) % len(items)\n",
    "                if items[nextIdx] == None:\n",
    "                    items[idx] = None\n",
    "                else:\n",
    "                    items[idx] = HashSet.__Placeholder()\n",
    "                return True\n",
    "\n",
    "            idx = (idx + 1) % len(items)\n",
    "        return False\n",
    "    \n",
    "    # HashSet Remove\n",
    "    def remove(self, item):\n",
    "        if HashSet.__remove(item, self.items):\n",
    "            self.numItems -= 1\n",
    "            load = max(self.numItems, 10)/len(self.items)\n",
    "            if load <= 0.25:\n",
    "                self.items = HashSet.__rehash(self.items, [None]*int(len(self.items)/2))\n",
    "            else:\n",
    "                raise KeyError(\"Item not in HashSet\")\n",
    "                \n",
    "    # HashSet Membership\n",
    "    def __contains__(self,item):\n",
    "        idx = hash(item)%len(self.items)\n",
    "        while self.items[idx] != None:\n",
    "            if self.items[idx] ==item:\n",
    "                return True\n",
    "            \n",
    "            idx = (idx + 1)%len(self.items)\n",
    "            \n",
    "        return False\n",
    "    \n",
    "    # Iterating over a set\n",
    "    def __iter__(self):\n",
    "        for i in range(len(self.items)):\n",
    "            if self.items[i] != None and type(self.items[i]) != HashSet.__Placeholder:\n",
    "                yield self.items[i]\n",
    "    \n",
    "    \n",
    "    #HashSet Difference Update\n",
    "    def difference_update(self, other):\n",
    "        for item in other:\n",
    "            self.discard(item)\n",
    "            \n",
    "    # HashSet Difference\n",
    "    def difference(self, other):\n",
    "        result = HashSet(self)\n",
    "        result.difference_update(other)\n",
    "        return result\n"
   ]
  },
  {
   "cell_type": "code",
   "execution_count": null,
   "metadata": {},
   "outputs": [],
   "source": []
  }
 ],
 "metadata": {
  "kernelspec": {
   "display_name": "Python 3",
   "language": "python",
   "name": "python3"
  },
  "language_info": {
   "codemirror_mode": {
    "name": "ipython",
    "version": 3
   },
   "file_extension": ".py",
   "mimetype": "text/x-python",
   "name": "python",
   "nbconvert_exporter": "python",
   "pygments_lexer": "ipython3",
   "version": "3.8.3"
  }
 },
 "nbformat": 4,
 "nbformat_minor": 4
}
